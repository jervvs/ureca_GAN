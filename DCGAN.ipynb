{
  "nbformat": 4,
  "nbformat_minor": 0,
  "metadata": {
    "colab": {
      "name": "DCGAN.ipynb",
      "provenance": [],
      "collapsed_sections": [],
      "authorship_tag": "ABX9TyOCCFOsO/U9IyLn1njtLERn",
      "include_colab_link": true
    },
    "kernelspec": {
      "name": "python3",
      "display_name": "Python 3"
    },
    "accelerator": "GPU"
  },
  "cells": [
    {
      "cell_type": "markdown",
      "metadata": {
        "id": "view-in-github",
        "colab_type": "text"
      },
      "source": [
        "<a href=\"https://colab.research.google.com/github/jervvs/ureca_GAN/blob/master/DCGAN.ipynb\" target=\"_parent\"><img src=\"https://colab.research.google.com/assets/colab-badge.svg\" alt=\"Open In Colab\"/></a>"
      ]
    },
    {
      "cell_type": "markdown",
      "metadata": {
        "id": "ZS1963i5pznw",
        "colab_type": "text"
      },
      "source": [
        "What is a GAN?\n",
        "\n",
        "\n",
        "Generative Adversarial Networks (GANs) are a framework for teaching a deep learning (DL) model to capture the training data's distribution so we can generate new data from that same distribution.\n",
        "\n",
        "They are made of two distinct models, a generator and a discriminator. The job of the generator is to spawn ‘fake’ images that look like the training images. The job of the discriminator is to look at an image and output whether or not it is a real training image or a fake image from the generator. During training, the generator is constantly trying to outsmart the discriminator by generating better and better fakes, while the discriminator is working to become a better detective and correctly classify the real and fake images. The equilibrium of this game is when the generator is generating perfect fakes that look as if they came directly from the training data, and the discriminator is left to always guess at 50% confidence that the generator output is real or fake.\n",
        "\n",
        "Now, lets define some notation to be used throughout tutorial starting\n",
        "with the discriminator. Let $x$ be data representing an image.\n",
        "$D(x)$ is the discriminator network which outputs the (scalar)\n",
        "probability that $x$ came from training data rather than the\n",
        "generator. Here, since we are dealing with images the input to\n",
        "$D(x)$ is an image of HWC size 3x64x64. Intuitively, $D(x)$\n",
        "should be HIGH when $x$ comes from training data and LOW when\n",
        "$x$ comes from the generator. $D(x)$ can also be thought of\n",
        "as a traditional binary classifier.\n",
        "\n",
        "For the generator’s notation, let $z$ be a latent space vector\n",
        "sampled from a standard normal distribution. $G(z)$ represents the\n",
        "generator function which maps the latent vector $z$ to data-space.\n",
        "The goal of $G$ is to estimate the distribution that the training\n",
        "data comes from ($p_{data}$) so it can generate fake samples from\n",
        "that estimated distribution ($p_g$).\n",
        "\n",
        "So, $D(G(z))$ is the probability (scalar) that the output of the\n",
        "generator $G$ is a real image. As described in `Goodfellow’s\n",
        "paper <https://papers.nips.cc/paper/5423-generative-adversarial-nets.pdf>`__,\n",
        "$D$ and $G$ play a minimax game in which $D$ tries to\n",
        "maximize the probability it correctly classifies reals and fakes\n",
        "($logD(x)$), and $G$ tries to minimize the probability that\n",
        "$D$ will predict its outputs are fake ($log(1-D(G(x)))$).\n",
        "From the paper, the GAN loss function is\n",
        "\n",
        "\\begin{align}\\underset{G}{\\text{min}} \\underset{D}{\\text{max}}V(D,G) = \\mathbb{E}_{x\\sim p_{data}(x)}\\big[logD(x)\\big] + \\mathbb{E}_{z\\sim p_{z}(z)}\\big[log(1-D(G(x)))\\big]\\end{align}\n",
        "\n",
        "\n",
        "\n"
      ]
    },
    {
      "cell_type": "markdown",
      "metadata": {
        "id": "H8iDGl44qj1f",
        "colab_type": "text"
      },
      "source": [
        "What is a DCGAN?\n",
        "\n",
        "A DCGAN is a direct extension of the GAN described above, except that it\n",
        "explicitly uses convolutional and convolutional-transpose layers in the\n",
        "discriminator and generator, respectively. It was first described by\n",
        "Radford et. al. in the paper `Unsupervised Representation Learning With\n",
        "Deep Convolutional Generative Adversarial\n",
        "Networks <https://arxiv.org/pdf/1511.06434.pdf>`__. The discriminator\n",
        "is made up of strided\n",
        "`convolution <https://pytorch.org/docs/stable/nn.html#torch.nn.Conv2d>`__\n",
        "layers, `batch\n",
        "norm <https://pytorch.org/docs/stable/nn.html#torch.nn.BatchNorm2d>`__\n",
        "layers, and\n",
        "`LeakyReLU <https://pytorch.org/docs/stable/nn.html#torch.nn.LeakyReLU>`__\n",
        "activations. The input is a 3x64x64 input image and the output is a\n",
        "scalar probability that the input is from the real data distribution.\n",
        "The generator is comprised of\n",
        "`convolutional-transpose <https://pytorch.org/docs/stable/nn.html#torch.nn.ConvTranspose2d>`__\n",
        "layers, batch norm layers, and\n",
        "`ReLU <https://pytorch.org/docs/stable/nn.html#relu>`__ activations. The\n",
        "input is a latent vector, $z$, that is drawn from a standard\n",
        "normal distribution and the output is a 3x64x64 RGB image. The strided\n",
        "conv-transpose layers allow the latent vector to be transformed into a\n",
        "volume with the same shape as an image. In the paper, the authors also\n",
        "give some tips about how to setup the optimizers, how to calculate the\n",
        "loss functions, and how to initialize the model weights, all of which\n",
        "will be explained in the coming sections."
      ]
    },
    {
      "cell_type": "code",
      "metadata": {
        "id": "lWjw7P9aiPvL",
        "colab_type": "code",
        "colab": {
          "base_uri": "https://localhost:8080/",
          "height": 34
        },
        "outputId": "c045f9a8-cb0e-47c5-9384-c18a3e5d1c7f"
      },
      "source": [
        "#Import libraries and set random seed for reproducibility\n",
        "\n",
        "from __future__ import print_function\n",
        "#%matplotlib inline\n",
        "import argparse\n",
        "import os\n",
        "import random\n",
        "import torch\n",
        "import torch.nn as nn\n",
        "import torch.nn.parallel\n",
        "import torch.backends.cudnn as cudnn\n",
        "import torch.optim as optim\n",
        "import torch.utils.data\n",
        "import torchvision.datasets as dset\n",
        "import torchvision.transforms as transforms\n",
        "import torchvision.utils as vutils\n",
        "import numpy as np\n",
        "import matplotlib.pyplot as plt\n",
        "import matplotlib.animation as animation\n",
        "from IPython.display import HTML\n",
        "\n",
        "manualSeed = 999\n",
        "#manualSeed = random.randint(1, 10000) # use if you want new results\n",
        "random.seed(manualSeed)\n",
        "torch.manual_seed(manualSeed)"
      ],
      "execution_count": 2,
      "outputs": [
        {
          "output_type": "execute_result",
          "data": {
            "text/plain": [
              "<torch._C.Generator at 0x7fe31d295c10>"
            ]
          },
          "metadata": {
            "tags": []
          },
          "execution_count": 2
        }
      ]
    },
    {
      "cell_type": "code",
      "metadata": {
        "id": "5Bnxv6BxwUpC",
        "colab_type": "code",
        "colab": {
          "base_uri": "https://localhost:8080/",
          "height": 122
        },
        "outputId": "a2ed6a74-7913-4751-9839-912b0a4c34eb"
      },
      "source": [
        "from google.colab import drive\n",
        "drive.mount('/content/gdrive')"
      ],
      "execution_count": 3,
      "outputs": [
        {
          "output_type": "stream",
          "text": [
            "Go to this URL in a browser: https://accounts.google.com/o/oauth2/auth?client_id=947318989803-6bn6qk8qdgf4n4g3pfee6491hc0brc4i.apps.googleusercontent.com&redirect_uri=urn%3aietf%3awg%3aoauth%3a2.0%3aoob&response_type=code&scope=email%20https%3a%2f%2fwww.googleapis.com%2fauth%2fdocs.test%20https%3a%2f%2fwww.googleapis.com%2fauth%2fdrive%20https%3a%2f%2fwww.googleapis.com%2fauth%2fdrive.photos.readonly%20https%3a%2f%2fwww.googleapis.com%2fauth%2fpeopleapi.readonly\n",
            "\n",
            "Enter your authorization code:\n",
            "··········\n",
            "Mounted at /content/gdrive\n"
          ],
          "name": "stdout"
        }
      ]
    },
    {
      "cell_type": "code",
      "metadata": {
        "id": "yQtdNIgrOrvL",
        "colab_type": "code",
        "colab": {}
      },
      "source": [
        "import os\n",
        "os.environ['KAGGLE_CONFIG_DIR'] = \"/content/gdrive/My Drive/Kaggle\""
      ],
      "execution_count": 0,
      "outputs": []
    },
    {
      "cell_type": "code",
      "metadata": {
        "id": "do3XxTQ8Ox2c",
        "colab_type": "code",
        "colab": {}
      },
      "source": [
        "#%cd /content/gdrive/My Drive/Kaggle"
      ],
      "execution_count": 0,
      "outputs": []
    },
    {
      "cell_type": "code",
      "metadata": {
        "id": "Z2Zwb4MZO31e",
        "colab_type": "code",
        "colab": {}
      },
      "source": [
        "# ! kaggle datasets download -d jessicali9530/celeba-dataset"
      ],
      "execution_count": 0,
      "outputs": []
    },
    {
      "cell_type": "code",
      "metadata": {
        "id": "adobiUq1P1dO",
        "colab_type": "code",
        "colab": {}
      },
      "source": [
        "# !unzip \\*.zip  && rm *.zip"
      ],
      "execution_count": 0,
      "outputs": []
    },
    {
      "cell_type": "code",
      "metadata": {
        "id": "CMxYbdYwsbIc",
        "colab_type": "code",
        "colab": {}
      },
      "source": [
        "#Input\n",
        "\n",
        "#dataroot - path to root of dataset folder\n",
        "#Note, we are ImageFolder dataset class which requires there to be subdirectories in the dataset’s root folder. \n",
        "dataroot = \"./gdrive/My Drive/Kaggle/img_align_celeba\"\n",
        "\n",
        "#workers -  number of worker threads for loading data for dataloader\n",
        "workers = 2\n",
        "\n",
        "#batch_size - as defined in DCGAN paper\n",
        "batch_size = 128\n",
        "\n",
        "#image_size - spatial size of images used for training. Here, we are using 64 x 64\n",
        "image_size = 64\n",
        "\n",
        "#nc - number of channels. 3 for color (RGB)\n",
        "nc = 3\n",
        "\n",
        "#nz - length of z latent vector (ie size of generator input)\n",
        "nz = 100\n",
        "\n",
        "#ngf - depth of feature maps in generator\n",
        "ngf = 64\n",
        "\n",
        "#ndf - depth of feature maps propogated through discriminator\n",
        "ndf = 64\n",
        "\n",
        "#num_epochs\n",
        "num_epochs = 5\n",
        "\n",
        "#learning rate for optimizers\n",
        "lr = 0.0002\n",
        "\n",
        "#beta1 - hyperparam for Adam optimizers\n",
        "beta1 = 0.5\n",
        "\n",
        "#ngpu - number of GPUs available\n",
        "ngpu = 1"
      ],
      "execution_count": 0,
      "outputs": []
    },
    {
      "cell_type": "code",
      "metadata": {
        "id": "kEE3W5MgaHdf",
        "colab_type": "code",
        "colab": {}
      },
      "source": [
        " \n",
        " \n",
        " ls \"./gdrive/My Drive/Kaggle/img_align_celeba/img_align_celeba/\""
      ],
      "execution_count": 0,
      "outputs": []
    },
    {
      "cell_type": "code",
      "metadata": {
        "id": "2W1pFISQuLPs",
        "colab_type": "code",
        "colab": {
          "base_uri": "https://localhost:8080/",
          "height": 426
        },
        "outputId": "7ff8b3a8-5780-4ecd-ee67-c9e30ae57f46"
      },
      "source": [
        "#create the dataset\n",
        "transform=transforms.Compose([\n",
        "                               transforms.Resize(image_size),\n",
        "                               transforms.CenterCrop(image_size),\n",
        "                               transforms.ToTensor(),\n",
        "                               transforms.Normalize((0.5, 0.5, 0.5), (0.5, 0.5, 0.5)),\n",
        "                           ])\n",
        "\n",
        "dataset = dset.ImageFolder(root=dataroot, transform=transform)\n",
        "\n",
        "#create the dataloader\n",
        "dataloader = torch.utils.data.DataLoader(dataset, batch_size = batch_size,\n",
        "                                         shuffle = True, num_workers = workers)\n",
        "\n",
        "#set the device to run on\n",
        "device = torch.device(\"cuda:0\" if (torch.cuda.is_available() and ngpu >0) else \"cpu\") \n",
        "\n",
        "#Visualize some of the training data.\n",
        "real_batch = next(iter(dataloader))\n",
        "plt.figure(figsize = (8,8))\n",
        "plt.axis(\"off\")\n",
        "plt.title(\"Training Images\")\n",
        "plt.imshow(np.transpose(vutils.make_grid(real_batch[0].to(device)[:64], padding = 2,normalize = True).cpu(),(1,2,0)))"
      ],
      "execution_count": 9,
      "outputs": [
        {
          "output_type": "error",
          "ename": "KeyboardInterrupt",
          "evalue": "ignored",
          "traceback": [
            "\u001b[0;31m---------------------------------------------------------------------------\u001b[0m",
            "\u001b[0;31mOSError\u001b[0m                                   Traceback (most recent call last)",
            "\u001b[0;32m/usr/lib/python3.6/os.py\u001b[0m in \u001b[0;36mwalk\u001b[0;34m(top, topdown, onerror, followlinks)\u001b[0m\n\u001b[1;32m    347\u001b[0m         \u001b[0;31m# to earlier import-*.\u001b[0m\u001b[0;34m\u001b[0m\u001b[0;34m\u001b[0m\u001b[0;34m\u001b[0m\u001b[0m\n\u001b[0;32m--> 348\u001b[0;31m         \u001b[0mscandir_it\u001b[0m \u001b[0;34m=\u001b[0m \u001b[0mscandir\u001b[0m\u001b[0;34m(\u001b[0m\u001b[0mtop\u001b[0m\u001b[0;34m)\u001b[0m\u001b[0;34m\u001b[0m\u001b[0;34m\u001b[0m\u001b[0m\n\u001b[0m\u001b[1;32m    349\u001b[0m     \u001b[0;32mexcept\u001b[0m \u001b[0mOSError\u001b[0m \u001b[0;32mas\u001b[0m \u001b[0merror\u001b[0m\u001b[0;34m:\u001b[0m\u001b[0;34m\u001b[0m\u001b[0;34m\u001b[0m\u001b[0m\n",
            "\u001b[0;31mOSError\u001b[0m: [Errno 5] Input/output error: './gdrive/My Drive/Kaggle/img_align_celeba/img_align_celeba'",
            "\nDuring handling of the above exception, another exception occurred:\n",
            "\u001b[0;31mKeyboardInterrupt\u001b[0m                         Traceback (most recent call last)",
            "\u001b[0;32m<ipython-input-9-64d0a9e4639f>\u001b[0m in \u001b[0;36m<module>\u001b[0;34m()\u001b[0m\n\u001b[1;32m      6\u001b[0m                            ])\n\u001b[1;32m      7\u001b[0m \u001b[0;34m\u001b[0m\u001b[0m\n\u001b[0;32m----> 8\u001b[0;31m \u001b[0mdataset\u001b[0m \u001b[0;34m=\u001b[0m \u001b[0mdset\u001b[0m\u001b[0;34m.\u001b[0m\u001b[0mImageFolder\u001b[0m\u001b[0;34m(\u001b[0m\u001b[0mroot\u001b[0m\u001b[0;34m=\u001b[0m\u001b[0mdataroot\u001b[0m\u001b[0;34m,\u001b[0m \u001b[0mtransform\u001b[0m\u001b[0;34m=\u001b[0m\u001b[0mtransform\u001b[0m\u001b[0;34m)\u001b[0m\u001b[0;34m\u001b[0m\u001b[0;34m\u001b[0m\u001b[0m\n\u001b[0m\u001b[1;32m      9\u001b[0m \u001b[0;34m\u001b[0m\u001b[0m\n\u001b[1;32m     10\u001b[0m \u001b[0;31m#create the dataloader\u001b[0m\u001b[0;34m\u001b[0m\u001b[0;34m\u001b[0m\u001b[0;34m\u001b[0m\u001b[0m\n",
            "\u001b[0;32m/usr/local/lib/python3.6/dist-packages/torchvision/datasets/folder.py\u001b[0m in \u001b[0;36m__init__\u001b[0;34m(self, root, transform, target_transform, loader, is_valid_file)\u001b[0m\n\u001b[1;32m    207\u001b[0m                                           \u001b[0mtransform\u001b[0m\u001b[0;34m=\u001b[0m\u001b[0mtransform\u001b[0m\u001b[0;34m,\u001b[0m\u001b[0;34m\u001b[0m\u001b[0;34m\u001b[0m\u001b[0m\n\u001b[1;32m    208\u001b[0m                                           \u001b[0mtarget_transform\u001b[0m\u001b[0;34m=\u001b[0m\u001b[0mtarget_transform\u001b[0m\u001b[0;34m,\u001b[0m\u001b[0;34m\u001b[0m\u001b[0;34m\u001b[0m\u001b[0m\n\u001b[0;32m--> 209\u001b[0;31m                                           is_valid_file=is_valid_file)\n\u001b[0m\u001b[1;32m    210\u001b[0m         \u001b[0mself\u001b[0m\u001b[0;34m.\u001b[0m\u001b[0mimgs\u001b[0m \u001b[0;34m=\u001b[0m \u001b[0mself\u001b[0m\u001b[0;34m.\u001b[0m\u001b[0msamples\u001b[0m\u001b[0;34m\u001b[0m\u001b[0;34m\u001b[0m\u001b[0m\n",
            "\u001b[0;32m/usr/local/lib/python3.6/dist-packages/torchvision/datasets/folder.py\u001b[0m in \u001b[0;36m__init__\u001b[0;34m(self, root, loader, extensions, transform, target_transform, is_valid_file)\u001b[0m\n\u001b[1;32m     92\u001b[0m                                             target_transform=target_transform)\n\u001b[1;32m     93\u001b[0m         \u001b[0mclasses\u001b[0m\u001b[0;34m,\u001b[0m \u001b[0mclass_to_idx\u001b[0m \u001b[0;34m=\u001b[0m \u001b[0mself\u001b[0m\u001b[0;34m.\u001b[0m\u001b[0m_find_classes\u001b[0m\u001b[0;34m(\u001b[0m\u001b[0mself\u001b[0m\u001b[0;34m.\u001b[0m\u001b[0mroot\u001b[0m\u001b[0;34m)\u001b[0m\u001b[0;34m\u001b[0m\u001b[0;34m\u001b[0m\u001b[0m\n\u001b[0;32m---> 94\u001b[0;31m         \u001b[0msamples\u001b[0m \u001b[0;34m=\u001b[0m \u001b[0mmake_dataset\u001b[0m\u001b[0;34m(\u001b[0m\u001b[0mself\u001b[0m\u001b[0;34m.\u001b[0m\u001b[0mroot\u001b[0m\u001b[0;34m,\u001b[0m \u001b[0mclass_to_idx\u001b[0m\u001b[0;34m,\u001b[0m \u001b[0mextensions\u001b[0m\u001b[0;34m,\u001b[0m \u001b[0mis_valid_file\u001b[0m\u001b[0;34m)\u001b[0m\u001b[0;34m\u001b[0m\u001b[0;34m\u001b[0m\u001b[0m\n\u001b[0m\u001b[1;32m     95\u001b[0m         \u001b[0;32mif\u001b[0m \u001b[0mlen\u001b[0m\u001b[0;34m(\u001b[0m\u001b[0msamples\u001b[0m\u001b[0;34m)\u001b[0m \u001b[0;34m==\u001b[0m \u001b[0;36m0\u001b[0m\u001b[0;34m:\u001b[0m\u001b[0;34m\u001b[0m\u001b[0;34m\u001b[0m\u001b[0m\n\u001b[1;32m     96\u001b[0m             raise (RuntimeError(\"Found 0 files in subfolders of: \" + self.root + \"\\n\"\n",
            "\u001b[0;32m/usr/local/lib/python3.6/dist-packages/torchvision/datasets/folder.py\u001b[0m in \u001b[0;36mmake_dataset\u001b[0;34m(dir, class_to_idx, extensions, is_valid_file)\u001b[0m\n\u001b[1;32m     45\u001b[0m         \u001b[0;32mif\u001b[0m \u001b[0;32mnot\u001b[0m \u001b[0mos\u001b[0m\u001b[0;34m.\u001b[0m\u001b[0mpath\u001b[0m\u001b[0;34m.\u001b[0m\u001b[0misdir\u001b[0m\u001b[0;34m(\u001b[0m\u001b[0md\u001b[0m\u001b[0;34m)\u001b[0m\u001b[0;34m:\u001b[0m\u001b[0;34m\u001b[0m\u001b[0;34m\u001b[0m\u001b[0m\n\u001b[1;32m     46\u001b[0m             \u001b[0;32mcontinue\u001b[0m\u001b[0;34m\u001b[0m\u001b[0;34m\u001b[0m\u001b[0m\n\u001b[0;32m---> 47\u001b[0;31m         \u001b[0;32mfor\u001b[0m \u001b[0mroot\u001b[0m\u001b[0;34m,\u001b[0m \u001b[0m_\u001b[0m\u001b[0;34m,\u001b[0m \u001b[0mfnames\u001b[0m \u001b[0;32min\u001b[0m \u001b[0msorted\u001b[0m\u001b[0;34m(\u001b[0m\u001b[0mos\u001b[0m\u001b[0;34m.\u001b[0m\u001b[0mwalk\u001b[0m\u001b[0;34m(\u001b[0m\u001b[0md\u001b[0m\u001b[0;34m,\u001b[0m \u001b[0mfollowlinks\u001b[0m\u001b[0;34m=\u001b[0m\u001b[0;32mTrue\u001b[0m\u001b[0;34m)\u001b[0m\u001b[0;34m)\u001b[0m\u001b[0;34m:\u001b[0m\u001b[0;34m\u001b[0m\u001b[0;34m\u001b[0m\u001b[0m\n\u001b[0m\u001b[1;32m     48\u001b[0m             \u001b[0;32mfor\u001b[0m \u001b[0mfname\u001b[0m \u001b[0;32min\u001b[0m \u001b[0msorted\u001b[0m\u001b[0;34m(\u001b[0m\u001b[0mfnames\u001b[0m\u001b[0;34m)\u001b[0m\u001b[0;34m:\u001b[0m\u001b[0;34m\u001b[0m\u001b[0;34m\u001b[0m\u001b[0m\n\u001b[1;32m     49\u001b[0m                 \u001b[0mpath\u001b[0m \u001b[0;34m=\u001b[0m \u001b[0mos\u001b[0m\u001b[0;34m.\u001b[0m\u001b[0mpath\u001b[0m\u001b[0;34m.\u001b[0m\u001b[0mjoin\u001b[0m\u001b[0;34m(\u001b[0m\u001b[0mroot\u001b[0m\u001b[0;34m,\u001b[0m \u001b[0mfname\u001b[0m\u001b[0;34m)\u001b[0m\u001b[0;34m\u001b[0m\u001b[0;34m\u001b[0m\u001b[0m\n",
            "\u001b[0;32m/usr/lib/python3.6/os.py\u001b[0m in \u001b[0;36mwalk\u001b[0;34m(top, topdown, onerror, followlinks)\u001b[0m\n\u001b[1;32m    346\u001b[0m         \u001b[0;31m# Note that scandir is global in this module due\u001b[0m\u001b[0;34m\u001b[0m\u001b[0;34m\u001b[0m\u001b[0;34m\u001b[0m\u001b[0m\n\u001b[1;32m    347\u001b[0m         \u001b[0;31m# to earlier import-*.\u001b[0m\u001b[0;34m\u001b[0m\u001b[0;34m\u001b[0m\u001b[0;34m\u001b[0m\u001b[0m\n\u001b[0;32m--> 348\u001b[0;31m         \u001b[0mscandir_it\u001b[0m \u001b[0;34m=\u001b[0m \u001b[0mscandir\u001b[0m\u001b[0;34m(\u001b[0m\u001b[0mtop\u001b[0m\u001b[0;34m)\u001b[0m\u001b[0;34m\u001b[0m\u001b[0;34m\u001b[0m\u001b[0m\n\u001b[0m\u001b[1;32m    349\u001b[0m     \u001b[0;32mexcept\u001b[0m \u001b[0mOSError\u001b[0m \u001b[0;32mas\u001b[0m \u001b[0merror\u001b[0m\u001b[0;34m:\u001b[0m\u001b[0;34m\u001b[0m\u001b[0;34m\u001b[0m\u001b[0m\n\u001b[1;32m    350\u001b[0m         \u001b[0;32mif\u001b[0m \u001b[0monerror\u001b[0m \u001b[0;32mis\u001b[0m \u001b[0;32mnot\u001b[0m \u001b[0;32mNone\u001b[0m\u001b[0;34m:\u001b[0m\u001b[0;34m\u001b[0m\u001b[0;34m\u001b[0m\u001b[0m\n",
            "\u001b[0;31mKeyboardInterrupt\u001b[0m: "
          ]
        }
      ]
    },
    {
      "cell_type": "markdown",
      "metadata": {
        "id": "fYcc9iWHRTnb",
        "colab_type": "text"
      },
      "source": [
        "Implementation is broken down to the following steps\n",
        "\n",
        "\n",
        "1.   Weight Initialization\n",
        "2.   Generator\n",
        "3.   Discriminator\n",
        "4. Loss Function\n",
        "5. Training Loop\n",
        "\n"
      ]
    },
    {
      "cell_type": "code",
      "metadata": {
        "id": "VBvbjd-4RTRc",
        "colab_type": "code",
        "colab": {}
      },
      "source": [
        "#Weight Initialisation\n",
        "#DCGAN Paper specified model weights shall be randomly initialised from a Normal distribution (mean = 0, std = 0.02)\n",
        "\n",
        "def weights_init(m):\n",
        "  classname = m.__class__.__name__\n",
        "  if classname.find('Conv') != -1:\n",
        "    nn.init.normal_(m.weight.data, 0.0, 0.02)\n",
        "  elif classname.find('BatchNorm') != -1:\n",
        "    nn.init.normal_(m.weight.data, 0.0, 0.02)\n",
        "    nn.init.constant_(m.bias.data, 0)\n",
        "\n",
        "#this function takes an initialised model as input\n",
        "#reinitialises all convolutional, convolutional-transpose and batch norm layers to meet this criteria."
      ],
      "execution_count": 0,
      "outputs": []
    },
    {
      "cell_type": "markdown",
      "metadata": {
        "id": "X83ErktOTMIV",
        "colab_type": "text"
      },
      "source": [
        "Generator\n",
        "\n",
        "The generator, $G$, is designed to map the latent space vector\n",
        "($z$) to data-space. Since our data are images, converting\n",
        "$z$ to data-space means ultimately creating a RGB image with the\n",
        "same size as the training images (i.e. 3x64x64). In practice, this is\n",
        "accomplished through a series of strided two dimensional convolutional\n",
        "transpose layers, each paired with a 2d batch norm layer and a relu\n",
        "activation. The output of the generator is fed through a tanh function\n",
        "to return it to the input data range of $[-1,1]$. It is worth\n",
        "noting the existence of the batch norm functions after the\n",
        "conv-transpose layers, as this is a critical contribution of the DCGAN\n",
        "paper. These layers help with the flow of gradients during training. An\n",
        "image of the generator from the DCGAN paper is shown below.\n",
        "\n",
        "![alt text](https://pytorch.org/tutorials/_images/dcgan_generator.png)\n",
        "\n",
        "Notice  how the inputs we set in the input section (*nz*, *ngf*, and\n",
        "*nc*) influence the generator architecture in code. *nz* is the length\n",
        "of the z input vector, *ngf* relates to the size of the feature maps\n",
        "that are propagated through the generator, and *nc* is the number of\n",
        "channels in the output image (set to 3 for RGB images). Below is the\n",
        "code for the generator.\n",
        "\n"
      ]
    },
    {
      "cell_type": "code",
      "metadata": {
        "id": "iOu2qRgy0LJ7",
        "colab_type": "code",
        "colab": {}
      },
      "source": [
        "#Generator Code\n",
        "# nn.ConvTranspose2d(in_channels, out_channels, kernel_size, \n",
        "#                    stride=1, padding=0, output_padding=0, groups=1, bias=True, dilation=1, padding_mode='zeros')\n",
        "\n",
        "\n",
        "class Generator(nn.Module):\n",
        "  def __init__(self,ngpu):\n",
        "    super(Generator,self).__init__()\n",
        "    self.ngpu = ngpu\n",
        "    self.main = nn.Sequential(\n",
        "        #input is Z going thru convolution\n",
        "        nn.ConvTranspose2d(nz, ngf*8, 4, 1, 0, bias = False),\n",
        "        nn.BatchNorm2d(ngf * 8), #go understand what a Batch Norm layer does\n",
        "        nn.ReLU(True),\n",
        "        #state size: (ngf*8) x 4 x 4\n",
        "        nn.ConvTranspose2d(ngf*8, ngf*4, 4,2,1, bias = False),\n",
        "        nn.BatchNorm2d(ngf*4),\n",
        "        nn.ReLU(True),\n",
        "        #state size (ngf*4) x 8 x 8\n",
        "        nn.ConvTranspose2d(ngf*4, ngf*2, 4,2,1,bias = False),\n",
        "        nn.BatchNorm2d(ngf*2),\n",
        "        nn.ReLU(True),\n",
        "        #state size (ngf*2) x 16 x 16\n",
        "        nn.ConvTranspose2d(ngf*2, ngf, 4,2,1,bias = False),\n",
        "        nn.BatchNorm2d(ngf),\n",
        "        nn.ReLU(True),\n",
        "        #state size (ngf) x 32 x 32\n",
        "        nn.ConvTranspose2d(ngf, nc, 4,2,1,bias = False),\n",
        "        nn.Tanh()\n",
        "        #state size nc x 64 x 64\n",
        "    )\n",
        "\n",
        "  def forward(self, input):\n",
        "    return self.main(input)"
      ],
      "execution_count": 0,
      "outputs": []
    },
    {
      "cell_type": "code",
      "metadata": {
        "id": "rOpitlxvWkEf",
        "colab_type": "code",
        "colab": {}
      },
      "source": [
        "#Instantiate Generator and apply weights init\n",
        "netG = Generator(ngpu).to(device)\n",
        "\n",
        "#Handle multi-gpu if desired\n",
        "if (device.type == 'cuda') and (ngpu > 1):\n",
        "    netG = nn.DataParallel(netG, list(range(ngpu)))\n",
        "\n",
        "#apply weights_init function\n",
        "netG.apply(weights_init)\n",
        "\n",
        "#Print to see the structure\n",
        "print(netG)"
      ],
      "execution_count": 0,
      "outputs": []
    },
    {
      "cell_type": "markdown",
      "metadata": {
        "id": "GCSl4FW3XIUo",
        "colab_type": "text"
      },
      "source": [
        "Discriminator\n",
        "\n",
        "As mentioned, the discriminator, $D$, is a binary classification\n",
        "network that takes an image as input and outputs a scalar probability\n",
        "that the input image is real (as opposed to fake). Here, $D$ takes\n",
        "a 3x64x64 input image, processes it through a series of Conv2d,\n",
        "BatchNorm2d, and LeakyReLU layers, and outputs the final probability\n",
        "through a Sigmoid activation function. This architecture can be extended\n",
        "with more layers if necessary for the problem, but there is significance\n",
        "to the use of the strided convolution, BatchNorm, and LeakyReLUs. \n",
        "\n",
        "The\n",
        "DCGAN paper mentions it is a good practice to use strided convolution\n",
        "rather than pooling to downsample because it lets the network learn its\n",
        "own pooling function. Also batch norm and leaky relu functions promote\n",
        "healthy gradient flow which is critical for the learning process of both\n",
        "$G$ and $D$."
      ]
    },
    {
      "cell_type": "code",
      "metadata": {
        "id": "pffMK-KiXClh",
        "colab_type": "code",
        "colab": {}
      },
      "source": [
        "#Discriminator\n",
        "# nn.Conv2d(in_channels, out_channels, kernel_size, stride=1, padding=0, \n",
        "#           dilation=1, groups=1, bias=True, padding_mode='zeros')\n",
        "\n",
        "\n",
        "class Discriminator(nn.Module):\n",
        "  def __init__(self, ngpu):\n",
        "    super(Discriminator, self).__init__()\n",
        "    self.ngpu = ngpu\n",
        "    self.main = nn.Sequential(\n",
        "        #input is nc x 64 x 64\n",
        "        nn.Conv2d(nc, ndf, 4, 2, 1, bias = False),\n",
        "        nn.LeakyReLU(0.2, inplace = True), \n",
        "        #state size ndf x 32 x 32\n",
        "        nn.Conv2d(ndf, ndf*2, 4, 2, 1, bias = False),\n",
        "        nn.BatchNorm2d(ndf*2),\n",
        "        nn.LeakyReLU(0.2, inplace = True),\n",
        "        #state size (ndf*2) x 16 x 16\n",
        "        nn.Conv2d(ndf*2, ndf*4, 4, 2, 1, bias = False),\n",
        "        nn.BatchNorm2d(ndf*4),\n",
        "        nn.LeakyReLU(0.2, inplace = True),\n",
        "        #state size (ndf*4) x 8 x 8\n",
        "        nn.Conv2d(ndf*4, ndf*8, 4, 2, 1, bias = False),\n",
        "        nn.BatchNorm2d(ndf*8),\n",
        "        nn.LeakyReLU(0.2, inplace = True),\n",
        "        #state size (ndf*8) x 4 x 4\n",
        "        nn.Conv2d(ndf*8, 1, 4, 1, 0, bias = False),\n",
        "        nn.Sigmoid()\n",
        "    )\n",
        "\n",
        "  def forward(self, input):\n",
        "    return self.main(input)\n"
      ],
      "execution_count": 0,
      "outputs": []
    },
    {
      "cell_type": "code",
      "metadata": {
        "id": "PsdtEC-kfYQh",
        "colab_type": "code",
        "colab": {}
      },
      "source": [
        "#Initialise and Apply Weights\n",
        "\n",
        "netD = Discriminator(ngpu).to(device)\n",
        "\n",
        "# Handle multi-gpu if desired\n",
        "if (device.type == 'cuda') and (ngpu > 1):\n",
        "    netD = nn.DataParallel(netD, list(range(ngpu)))\n",
        "\n",
        "# Apply the weights_init function to randomly initialize all weights\n",
        "#  to mean=0, stdev=0.2.\n",
        "netD.apply(weights_init)\n",
        "\n",
        "# Print the model\n",
        "print(netD)"
      ],
      "execution_count": 0,
      "outputs": []
    },
    {
      "cell_type": "markdown",
      "metadata": {
        "id": "AwROIkPSnS1r",
        "colab_type": "text"
      },
      "source": [
        "Loss Functions and Optimizers\n",
        "~~~~~~~~~~~~~~~~~~~~~~~~~~~~~\n",
        "\n",
        "With $D$ and $G$ setup, we can specify how they learn\n",
        "through the loss functions and optimizers. We will use the Binary Cross\n",
        "Entropy loss\n",
        "(`BCELoss <https://pytorch.org/docs/stable/nn.html#torch.nn.BCELoss>`__)\n",
        "function which is defined in PyTorch as:\n",
        "\n",
        "\\begin{align}\\ell(x, y) = L = \\{l_1,\\dots,l_N\\}^\\top, \\quad l_n = - \\left[ y_n \\cdot \\log x_n + (1 - y_n) \\cdot \\log (1 - x_n) \\right]\\end{align}\n",
        "\n",
        "Notice how this function provides the calculation of both log components\n",
        "in the objective function (i.e. $log(D(x))$ and\n",
        "$log(1-D(G(z)))$). We can specify what part of the BCE equation to\n",
        "use with the $y$ input. This is accomplished in the training loop\n",
        "which is coming up soon, but it is important to understand how we can\n",
        "choose which component we wish to calculate just by changing $y$\n",
        "(i.e. GT labels).\n",
        "\n",
        "Next, we define our real label as 1 and the fake label as 0. These\n",
        "labels will be used when calculating the losses of $D$ and\n",
        "$G$, and this is also the convention used in the original GAN\n",
        "paper. Finally, we set up two separate optimizers, one for $D$ and\n",
        "one for $G$. As specified in the DCGAN paper, both are Adam\n",
        "optimizers with learning rate 0.0002 and Beta1 = 0.5. For keeping track\n",
        "of the generator’s learning progression, we will generate a fixed batch\n",
        "of latent vectors that are drawn from a Gaussian distribution\n",
        "(i.e. fixed_noise) . In the training loop, we will periodically input\n",
        "this fixed_noise into $G$, and over the iterations we will see\n",
        "images form out of the noise."
      ]
    },
    {
      "cell_type": "code",
      "metadata": {
        "id": "ipH1r-PWnK2E",
        "colab_type": "code",
        "colab": {}
      },
      "source": [
        "#initialise BCELoss Function\n",
        "criterion = nn.BCELoss()\n",
        "\n",
        "#create batch of latent vectors to visualise progression of generator\n",
        "fixed_noise = torch.randn(64, nz, 1, 1, device = device)\n",
        "\n",
        "#establish convention for real and fake labels\n",
        "real_label = 1\n",
        "fake_label = 0\n",
        "\n",
        "#Set up Adam optimisers\n",
        "optimizerD = optim.Adam(netD.parameters(), lr = lr, betas = (beta1, 0.999))\n",
        "optimizerG = optim.Adam(netG.parameters(), lr = lr, betas = (beta1, 0.999))"
      ],
      "execution_count": 0,
      "outputs": []
    },
    {
      "cell_type": "markdown",
      "metadata": {
        "id": "xf40PXbipXrv",
        "colab_type": "text"
      },
      "source": [
        "Training\n",
        "\n",
        "\n",
        "Finally, now that we have all of the parts of the GAN framework defined,\n",
        "we can train it. Be mindful that training GANs is somewhat of an art\n",
        "form, as incorrect hyperparameter settings lead to mode collapse with\n",
        "little explanation of what went wrong. Here, we will closely follow\n",
        "Algorithm 1 from Goodfellow’s paper, while abiding by some of the best\n",
        "practices shown in `ganhacks <https://github.com/soumith/ganhacks>`__.\n",
        "Namely, we will “construct different mini-batches for real and fake”\n",
        "images, and also adjust G’s objective function to maximize\n",
        "$logD(G(z))$. Training is split up into two main parts. Part 1\n",
        "updates the Discriminator and Part 2 updates the Generator.\n",
        "\n",
        "**Part 1 - Train the Discriminator**\n",
        "\n",
        "Recall, the goal of training the discriminator is to maximize the\n",
        "probability of correctly classifying a given input as real or fake. In\n",
        "terms of Goodfellow, we wish to “update the discriminator by ascending\n",
        "its stochastic gradient”. Practically, we want to maximize\n",
        "$log(D(x)) + log(1-D(G(z)))$. Due to the separate mini-batch\n",
        "suggestion from ganhacks, we will calculate this in two steps. \n",
        "\n",
        "First, we\n",
        "will construct a batch of real samples from the training set, forward\n",
        "pass through $D$, calculate the loss ($log(D(x))$), then\n",
        "calculate the gradients in a backward pass. \n",
        "\n",
        "Secondly, we will construct\n",
        "a batch of fake samples with the current generator, forward pass this\n",
        "batch through $D$, calculate the loss ($log(1-D(G(z)))$),\n",
        "and *accumulate* the gradients with a backward pass. Now, with the\n",
        "gradients accumulated from both the all-real and all-fake batches, we\n",
        "call a step of the Discriminator’s optimizer.\n",
        "\n",
        "**Part 2 - Train the Generator**\n",
        "\n",
        "As stated in the original paper, we want to train the Generator by\n",
        "minimizing $log(1-D(G(z)))$ in an effort to generate better fakes.\n",
        "As mentioned, this was shown by Goodfellow to not provide sufficient\n",
        "gradients, especially early in the learning process. As a fix, we\n",
        "instead wish to maximize $log(D(G(z)))$. \n",
        "\n",
        "In the code we accomplish\n",
        "this by: classifying the Generator output from Part 1 with the\n",
        "Discriminator, computing G’s loss *using real labels as GT*, computing\n",
        "G’s gradients in a backward pass, and finally updating G’s parameters\n",
        "with an optimizer step. It may seem counter-intuitive to use the real\n",
        "labels as GT labels for the loss function, but this allows us to use the\n",
        "$log(x)$ part of the BCELoss (rather than the $log(1-x)$\n",
        "part) which is exactly what we want.\n",
        "\n",
        "**Statistic Reporting**\n",
        "\n",
        "Finally, we will do some statistic reporting and at the end of each\n",
        "epoch we will push our fixed_noise batch through the generator to\n",
        "visually track the progress of G’s training. The training statistics\n",
        "reported are:\n",
        "\n",
        "-  **Loss_D** - discriminator loss calculated as the sum of losses for\n",
        "   the all real and all fake batches ($log(D(x)) + log(D(G(z)))$).\n",
        "-  **Loss_G** - generator loss calculated as $log(D(G(z)))$\n",
        "-  **D(x)** - the average output (across the batch) of the discriminator\n",
        "   for the all real batch. This should start close to 1 then\n",
        "   theoretically converge to 0.5 when G gets better. Think about why\n",
        "   this is.\n",
        "-  **D(G(z))** - average discriminator outputs for the all fake batch.\n",
        "   The first number is before D is updated and the second number is\n",
        "   after D is updated. These numbers should start near 0 and converge to\n",
        "   0.5 as G gets better. Think about why this is.\n",
        "\n",
        "**Note:** This step might take a while, depending on how many epochs you\n",
        "run and if you removed some data from the dataset.\n",
        "\n",
        "\n"
      ]
    },
    {
      "cell_type": "code",
      "metadata": {
        "id": "jn4qAN39o5cP",
        "colab_type": "code",
        "colab": {}
      },
      "source": [
        "#Training Loop\n",
        "\n",
        "#Lists to keep track of progress\n",
        "img_list = []\n",
        "G_losses = []\n",
        "D_losses = []\n",
        "iters = 0\n",
        "\n",
        "print(\"Starting Training...\")\n",
        "\n",
        "for epoch in range(num_epochs):\n",
        "  #for each batch in dataloader\n",
        "  for i, data in enumerate(dataloader,0):\n",
        "    ############################\n",
        "    # (1) Update D network: maximize log(D(x)) + log(1 - D(G(z)))\n",
        "    ###########################\n",
        "    ##Train with all-real batch\n",
        "    netD.zero_grad()\n",
        "    real_cpu = data[0].to_device\n",
        "    b_size = real_cpu.size(0)\n",
        "    label = torch.full((b_size,), real_label, device = device)\n",
        "    #Forward pass through D\n",
        "    output = netD(real_cpu).view(-1)\n",
        "    #Calculate Loss \n",
        "    errD_real = criterion(output, label)\n",
        "    #Calculate gradients for D in backward pass\n",
        "    errD_real.backward()\n",
        "    D_x = output.mean().item()\n",
        "\n",
        "    ##Train with all-fake\n",
        "    #Generate batch of latent vectors\n",
        "    noise = torch.randn(b_size, nz, 1, 1, device = device)\n",
        "    #Generate fake image batch with G\n",
        "    fake = netG(noise)\n",
        "    label.fill_(fake_label)\n",
        "    #Classify all fake batch with D\n",
        "    output = netD(fake.detach()).view(-1)\n",
        "    #Calculate Loss\n",
        "    errD_fake = criterion(output, label)\n",
        "    #Calculate gradients for this batch\n",
        "    errD_fake.backward()\n",
        "    D_G_z1 = output.mean().item()\n",
        "    # Add the gradients from the all-real and all-fake batches\n",
        "    errD = errD_real + errD_fake\n",
        "    # Update D\n",
        "    optimizerD.step()\n",
        "\n",
        "    ############################\n",
        "    # (2) Update G network: maximize log(D(G(z)))\n",
        "    ###########################\n",
        "    netG.zero_grad()\n",
        "    label.fill_(real_label)  # fake labels are real for generator cost\n",
        "    # Since we just updated D, perform another forward pass of all-fake batch through D\n",
        "    output = netD(fake).view(-1)\n",
        "    # Calculate G's loss based on this output\n",
        "    errG = criterion(output, label)\n",
        "    # Calculate gradients for G\n",
        "    errG.backward()\n",
        "    D_G_z2 = output.mean().item()\n",
        "    # Update G\n",
        "    optimizerG.step()\n",
        "\n",
        "    # Output training stats\n",
        "    if i % 50 == 0:\n",
        "        print('[%d/%d][%d/%d]\\tLoss_D: %.4f\\tLoss_G: %.4f\\tD(x): %.4f\\tD(G(z)): %.4f / %.4f'\n",
        "                % (epoch, num_epochs, i, len(dataloader),\n",
        "                     errD.item(), errG.item(), D_x, D_G_z1, D_G_z2))\n",
        "\n",
        "    # Save Losses for plotting later\n",
        "    G_losses.append(errG.item())\n",
        "    D_losses.append(errD.item())\n",
        "\n",
        "    # Check how the generator is doing by saving G's output on fixed_noise\n",
        "    if (iters % 500 == 0) or ((epoch == num_epochs-1) and (i == len(dataloader)-1)):\n",
        "        with torch.no_grad():\n",
        "          fake = netG(fixed_noise).detach().cpu()\n",
        "        img_list.append(vutils.make_grid(fake, padding=2, normalize=True))\n",
        "\n",
        "    iters += 1\n"
      ],
      "execution_count": 0,
      "outputs": []
    },
    {
      "cell_type": "code",
      "metadata": {
        "id": "LRfH-a_HtYn_",
        "colab_type": "code",
        "colab": {}
      },
      "source": [
        "#Check results\n",
        "#1. Changes in D and G's loss\n",
        "plt.figure(figsize=(10,5))\n",
        "plt.title(\"Generator and Discriminator Loss During Training\")\n",
        "plt.plot(G_losses, label = 'G')\n",
        "plt.plot(D_losses, label = 'D')\n",
        "plt.xlabel('iterations')\n",
        "plt.ylabel('loss')\n",
        "plt.legend()\n",
        "plt.show()"
      ],
      "execution_count": 0,
      "outputs": []
    },
    {
      "cell_type": "code",
      "metadata": {
        "id": "YD-LS3zptotC",
        "colab_type": "code",
        "colab": {}
      },
      "source": [
        "#2. G's output on the fixed_noise\n",
        "#%%capture\n",
        "fig = plt.figure(figsize=(8,8))\n",
        "plt.axis(\"off\")\n",
        "ims = [[plt.imshow(np.transpose(i, (1,2,0)), animated = True)] for i in img_list]\n",
        "ani = animation.ArtistAnimation(fig, ims, interval = 1000, repeat_delay = 1000, blit = True)\n",
        "\n",
        "HTMLL(ani.to_jshtml())"
      ],
      "execution_count": 0,
      "outputs": []
    },
    {
      "cell_type": "code",
      "metadata": {
        "id": "wZ6i_K39toew",
        "colab_type": "code",
        "colab": {}
      },
      "source": [
        "#3. Real vs fake data\n",
        "# Grab a batch of real images from the dataloader\n",
        "real_batch = next(iter(dataloader))\n",
        "\n",
        "# Plot the real images\n",
        "plt.figure(figsize=(15,15))\n",
        "plt.subplot(1,2,1)\n",
        "plt.axis(\"off\")\n",
        "plt.title(\"Real Images\")\n",
        "plt.imshow(np.transpose(vutils.make_grid(real_batch[0].to(device)[:64], padding=5, normalize=True).cpu(),(1,2,0)))\n",
        "\n",
        "# Plot the fake images from the last epoch\n",
        "plt.subplot(1,2,2)\n",
        "plt.axis(\"off\")\n",
        "plt.title(\"Fake Images\")\n",
        "plt.imshow(np.transpose(img_list[-1],(1,2,0)))\n",
        "plt.show()"
      ],
      "execution_count": 0,
      "outputs": []
    },
    {
      "cell_type": "code",
      "metadata": {
        "id": "emMvrg0LRegG",
        "colab_type": "code",
        "colab": {}
      },
      "source": [
        ""
      ],
      "execution_count": 0,
      "outputs": []
    }
  ]
}